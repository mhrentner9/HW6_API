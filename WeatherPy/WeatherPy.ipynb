{
 "cells": [
  {
   "cell_type": "markdown",
   "metadata": {},
   "source": [
    "# WeatherPy\n",
    "----\n",
    "\n",
    "#### Note\n",
    "* Instructions have been included for each segment. You do not have to follow them exactly, but they are included to help you think through the steps."
   ]
  },
  {
   "cell_type": "code",
   "execution_count": 1,
   "metadata": {
    "scrolled": true
   },
   "outputs": [
    {
     "name": "stdout",
     "output_type": "stream",
     "text": [
      "914a58f4c6ae6335dfcae85ae5a1666d\n"
     ]
    }
   ],
   "source": [
    "# Dependencies and Setup\n",
    "import matplotlib.pyplot as plt\n",
    "import pandas as pd\n",
    "import numpy as np\n",
    "import requests\n",
    "import time\n",
    "import json\n",
    "from scipy.stats import linregress\n",
    "\n",
    "# Import API key\n",
    "from api_keys import weather_api_key\n",
    "\n",
    "# Incorporated citipy to determine city based on latitude and longitude\n",
    "from citipy import citipy\n",
    "\n",
    "# Output File (CSV)\n",
    "output_data_file = \"output_data/cities.csv\"\n",
    "\n",
    "# Range of latitudes and longitudes\n",
    "lat_range = (-90, 90)\n",
    "lng_range = (-180, 180)\n",
    "\n",
    "# OpenWeatherMap API Key\n",
    "print(weather_api_key)"
   ]
  },
  {
   "cell_type": "markdown",
   "metadata": {},
   "source": [
    "## Generate Cities List"
   ]
  },
  {
   "cell_type": "code",
   "execution_count": 2,
   "metadata": {},
   "outputs": [
    {
     "data": {
      "text/plain": [
       "604"
      ]
     },
     "execution_count": 2,
     "metadata": {},
     "output_type": "execute_result"
    }
   ],
   "source": [
    "# List for holding lat_lngs and cities\n",
    "lat_lngs = []\n",
    "cities = []\n",
    "\n",
    "# Create a set of random lat and lng combinations\n",
    "lats = np.random.uniform(lat_range[0], lat_range[1], size=1500)\n",
    "lngs = np.random.uniform(lng_range[0], lng_range[1], size=1500)\n",
    "lat_lngs = zip(lats, lngs)\n",
    "\n",
    "# Identify nearest city for each lat, lng combination\n",
    "for lat_lng in lat_lngs:\n",
    "    city = citipy.nearest_city(lat_lng[0], lat_lng[1]).city_name\n",
    "    \n",
    "    # If the city is unique, then add it to a our cities list\n",
    "    if city not in cities:\n",
    "        cities.append(city)\n",
    "\n",
    "# Print the city count to confirm sufficient count\n",
    "len(cities)"
   ]
  },
  {
   "cell_type": "markdown",
   "metadata": {},
   "source": [
    "### Perform API Calls\n",
    "* Perform a weather check on each city using a series of successive API calls.\n",
    "* Include a print log of each city as it'sbeing processed (with the city number and city name).\n"
   ]
  },
  {
   "cell_type": "code",
   "execution_count": 3,
   "metadata": {
    "scrolled": true
   },
   "outputs": [
    {
     "name": "stdout",
     "output_type": "stream",
     "text": [
      "{\n",
      "    \"cod\": \"400\",\n",
      "    \"message\": \"Nothing to geocode\"\n",
      "}\n"
     ]
    }
   ],
   "source": [
    "# Save config information\n",
    "url = \"http://api.openweathermap.org/data/2.5/weather?\"\n",
    "\n",
    "# Build query URL\n",
    "#query_url = url + \"appid=\" + weather_api_key + \"&q=\" + city\n",
    "units = \"imperial\"\n",
    "query_url = f\"{url}appid={weather_api_key}&units={units}&q=\"\n",
    "\n",
    "# Get weather data\n",
    "weather_response = requests.get(query_url)\n",
    "weather_json = weather_response.json()\n",
    "print(json.dumps(weather_json, indent=4))"
   ]
  },
  {
   "cell_type": "code",
   "execution_count": 4,
   "metadata": {},
   "outputs": [
    {
     "name": "stdout",
     "output_type": "stream",
     "text": [
      "Beginning Data Retrieval\n",
      "Processing Record 1 | Luanda\n",
      "Processing Record 2 | Geraldton\n",
      "Processing Record 3 | Lensk\n",
      "Processing Record 4 | Kisangani\n",
      "Processing Record 5 | Najrān\n",
      "Processing Record 6 | Upernavik\n",
      "Processing Record 7 | George Town\n",
      "City not found. Skipping...\n",
      "Processing Record 8 | Port Alfred\n",
      "Processing Record 9 | Rikitea\n",
      "City not found. Skipping...\n",
      "Processing Record 10 | Hobart\n",
      "Processing Record 11 | Ushuaia\n",
      "Processing Record 12 | Arraial do Cabo\n",
      "Processing Record 13 | Sirte\n",
      "Processing Record 14 | Yerbogachën\n",
      "Processing Record 15 | Mandera\n",
      "Processing Record 16 | Atuona\n",
      "Processing Record 17 | Meridian\n",
      "Processing Record 18 | Forsytheganj\n",
      "Processing Record 19 | Tuktoyaktuk\n",
      "Processing Record 20 | Bredasdorp\n",
      "City not found. Skipping...\n",
      "Processing Record 21 | Thompson\n",
      "Processing Record 22 | Mataura\n",
      "Processing Record 23 | Faanui\n",
      "Processing Record 24 | Itoman\n",
      "Processing Record 25 | Busselton\n",
      "Processing Record 26 | Nanortalik\n",
      "Processing Record 27 | Kapaa\n",
      "Processing Record 28 | Roebourne\n",
      "City not found. Skipping...\n",
      "Processing Record 29 | Punta Arenas\n",
      "Processing Record 30 | Mahébourg\n",
      "Processing Record 31 | Thinadhoo\n",
      "Processing Record 32 | Butaritari\n",
      "Processing Record 33 | Yellowknife\n",
      "Processing Record 34 | Albany\n",
      "Processing Record 35 | Norman Wells\n",
      "Processing Record 36 | Mayo\n",
      "Processing Record 37 | Lüderitz\n",
      "Processing Record 38 | New Norfolk\n",
      "Processing Record 39 | Cape Town\n",
      "Processing Record 40 | ‘Ewa Beach\n",
      "City not found. Skipping...\n",
      "Processing Record 41 | Bull Savanna\n",
      "Processing Record 42 | Ilulissat\n",
      "Processing Record 43 | Garissa\n",
      "Processing Record 44 | Pochutla\n",
      "Processing Record 45 | Swift Current\n",
      "Processing Record 46 | Puerto Ayora\n",
      "Processing Record 47 | Cherskiy\n",
      "Processing Record 48 | Gamba\n",
      "Processing Record 49 | Mar del Plata\n",
      "Processing Record 50 | Vaini\n",
      "Processing Record 51 | Mossamedes\n",
      "Processing Record 52 | Ozinki\n",
      "Processing Record 53 | Katsuura\n",
      "Processing Record 54 | Zhob\n",
      "Processing Record 55 | Praia\n",
      "Processing Record 56 | Cayenne\n",
      "Processing Record 57 | Jumla\n",
      "Processing Record 58 | Jamestown\n",
      "Processing Record 59 | Matagami\n",
      "Processing Record 60 | Nome\n",
      "Processing Record 61 | Abnūb\n",
      "Processing Record 62 | Opuwo\n",
      "Processing Record 63 | Orlik\n",
      "Processing Record 64 | Hilo\n",
      "Processing Record 65 | Chokurdakh\n",
      "Processing Record 66 | Beni Mazar\n",
      "Processing Record 67 | Bluff\n",
      "Processing Record 68 | Barrow\n",
      "City not found. Skipping...\n",
      "Processing Record 69 | Qaanaaq\n",
      "Processing Record 70 | Hastings\n",
      "Processing Record 71 | Praia da Vitória\n",
      "Processing Record 72 | Bereket\n",
      "Processing Record 73 | Yangi Marg`ilon\n",
      "Processing Record 74 | Hithadhoo\n",
      "City not found. Skipping...\n",
      "City not found. Skipping...\n",
      "Processing Record 75 | Richards Bay\n",
      "City not found. Skipping...\n",
      "Processing Record 76 | Vestmannaeyjar\n",
      "Processing Record 77 | Angarsk\n",
      "Processing Record 78 | Karema\n",
      "Processing Record 79 | Grindavik\n",
      "Processing Record 80 | East London\n",
      "Processing Record 81 | Qaqortoq\n",
      "Processing Record 82 | Itarema\n",
      "City not found. Skipping...\n",
      "City not found. Skipping...\n",
      "Processing Record 83 | Lebu\n",
      "Processing Record 84 | Ugoofaaru\n",
      "Processing Record 85 | Buraidah\n",
      "Processing Record 86 | Igarka\n",
      "Processing Record 87 | Walvis Bay\n",
      "Processing Record 88 | Port Macquarie\n",
      "Processing Record 89 | Dzilam González\n",
      "Processing Record 90 | Nikolskoye\n",
      "Processing Record 91 | Severomuysk\n",
      "Processing Record 92 | Benghazi\n",
      "Processing Record 93 | Tessalit\n",
      "Processing Record 94 | Wawa\n",
      "Processing Record 95 | Sola\n",
      "Processing Record 96 | Yumen\n",
      "Processing Record 97 | Noumea\n",
      "Processing Record 98 | Saskylakh\n",
      "Processing Record 99 | Shimoda\n",
      "Processing Record 100 | Sergeevka\n",
      "Processing Record 101 | Port Elizabeth\n",
      "Processing Record 102 | Preobrazheniye\n",
      "Processing Record 103 | Vila Velha\n",
      "Processing Record 104 | Dikson\n",
      "Processing Record 105 | Paratinga\n",
      "Processing Record 106 | Stykkisholmur\n",
      "City not found. Skipping...\n",
      "City not found. Skipping...\n",
      "Processing Record 107 | Northam\n",
      "Processing Record 108 | Narodychi\n",
      "Processing Record 109 | Sørland\n",
      "Processing Record 110 | Fortuna\n",
      "Processing Record 111 | Lorengau\n",
      "Processing Record 112 | Necochea\n",
      "Processing Record 113 | Tasiilaq\n",
      "Processing Record 114 | Aklavik\n",
      "Processing Record 115 | Kaitangata\n",
      "Processing Record 116 | Esperance\n",
      "Processing Record 117 | Torrelavega\n",
      "Processing Record 118 | Bambous Virieux\n",
      "Processing Record 119 | Rosário do Sul\n",
      "Processing Record 120 | Whitehorse\n",
      "Processing Record 121 | Tafresh\n",
      "Processing Record 122 | Padang\n",
      "Processing Record 123 | Yangambi\n",
      "Processing Record 124 | Provideniya\n",
      "Processing Record 125 | Lewistown\n",
      "Processing Record 126 | Georgiyevka\n",
      "Processing Record 127 | Hervey Bay\n",
      "Processing Record 128 | Hong Kong\n",
      "City not found. Skipping...\n",
      "Processing Record 129 | Qūchān\n",
      "Processing Record 130 | Japura\n",
      "Processing Record 131 | Iqaluit\n",
      "Processing Record 132 | Souillac\n",
      "City not found. Skipping...\n",
      "Processing Record 133 | Carnarvon\n",
      "Processing Record 134 | Defiance\n",
      "Processing Record 135 | Tarauacá\n",
      "Processing Record 136 | Christchurch\n",
      "Processing Record 137 | Kuching\n",
      "Processing Record 138 | Vardø\n",
      "Processing Record 139 | Nekā\n",
      "Processing Record 140 | Kon Tum\n",
      "Processing Record 141 | Yaan\n",
      "Processing Record 142 | Riyadh\n",
      "Processing Record 143 | Beringovskiy\n",
      "Processing Record 144 | Saint-Philippe\n",
      "Processing Record 145 | Caravelas\n",
      "Processing Record 146 | Pokhara\n",
      "Processing Record 147 | Puri\n",
      "Processing Record 148 | Antofagasta\n",
      "Processing Record 149 | Lourdes\n",
      "Processing Record 150 | Santa Cruz de la Sierra\n",
      "Processing Record 151 | Kaeo\n",
      "Processing Record 152 | Lavrentiya\n",
      "Processing Record 153 | Buala\n",
      "Processing Record 154 | Ponta do Sol\n",
      "Processing Record 155 | Oistins\n",
      "Processing Record 156 | Laguna\n",
      "City not found. Skipping...\n",
      "Processing Record 157 | San Juan\n",
      "Processing Record 158 | Samarai\n",
      "Processing Record 159 | Vila Franca do Campo\n",
      "Processing Record 160 | Cabo San Lucas\n",
      "City not found. Skipping...\n",
      "Processing Record 161 | Gondanglegi\n",
      "Processing Record 162 | Severo-Kuril'sk\n",
      "Processing Record 163 | Te Anau\n",
      "Processing Record 164 | Castro\n",
      "Processing Record 165 | Victor Harbor\n",
      "City not found. Skipping...\n",
      "Processing Record 166 | Hermanus\n",
      "Processing Record 167 | Avarua\n",
      "Processing Record 168 | Srandakan\n",
      "Processing Record 169 | Neiafu\n",
      "Processing Record 170 | La Ronge\n",
      "Processing Record 171 | Bethel\n",
      "Processing Record 172 | Obo\n",
      "Processing Record 173 | Khatanga\n",
      "Processing Record 174 | Pevek\n",
      "Processing Record 175 | Lagoa\n",
      "City not found. Skipping...\n",
      "City not found. Skipping...\n",
      "City not found. Skipping...\n",
      "Processing Record 176 | Libreville\n",
      "Processing Record 177 | Egvekinot\n",
      "Processing Record 178 | Port Moresby\n",
      "Processing Record 179 | Lechinkay\n",
      "Processing Record 180 | Atbasar\n",
      "Processing Record 181 | Sainte-Rose\n",
      "Processing Record 182 | Husavik\n",
      "Processing Record 183 | Saldanha\n",
      "Processing Record 184 | Beloha\n",
      "Processing Record 185 | Wajid\n",
      "Processing Record 186 | Flin Flon\n",
      "Processing Record 187 | Paamiut\n",
      "Processing Record 188 | Marzuq\n",
      "Processing Record 189 | Ribeira Grande\n",
      "Processing Record 190 | Xiongyue\n",
      "City not found. Skipping...\n",
      "Processing Record 191 | Portland\n",
      "Processing Record 192 | Fairbanks\n",
      "Processing Record 193 | Pingliang\n",
      "Processing Record 194 | Pisco\n",
      "Processing Record 195 | Viçosa\n",
      "Processing Record 196 | Vaitape\n",
      "City not found. Skipping...\n",
      "Processing Record 197 | Haines Junction\n",
      "Processing Record 198 | San Quintín\n",
      "Processing Record 199 | Baião\n",
      "City not found. Skipping...\n",
      "Processing Record 200 | Saint-Augustin\n",
      "Processing Record 201 | Aripuanã\n",
      "Processing Record 202 | Sitka\n",
      "City not found. Skipping...\n",
      "Processing Record 203 | Klaksvík\n",
      "Processing Record 204 | Dunedin\n",
      "Processing Record 205 | Chui\n",
      "City not found. Skipping...\n",
      "Processing Record 206 | Yar-Sale\n",
      "City not found. Skipping...\n",
      "Processing Record 207 | Codrington\n",
      "Processing Record 208 | Jämsä\n",
      "Processing Record 209 | Tuatapere\n",
      "City not found. Skipping...\n",
      "Processing Record 210 | Loukhi\n",
      "Processing Record 211 | Partizanskoye\n",
      "Processing Record 212 | Tūkrah\n",
      "Processing Record 213 | Okhotsk\n",
      "Processing Record 214 | Mount Gambier\n",
      "Processing Record 215 | Vanavara\n",
      "Processing Record 216 | Ocean City\n",
      "Processing Record 217 | Taksimo\n",
      "Processing Record 218 | Esmeralda\n",
      "City not found. Skipping...\n",
      "Processing Record 219 | Saint George\n",
      "Processing Record 220 | Chato\n",
      "Processing Record 221 | Morón\n",
      "Processing Record 222 | Kitgum\n",
      "City not found. Skipping...\n",
      "Processing Record 223 | Cidreira\n"
     ]
    },
    {
     "name": "stdout",
     "output_type": "stream",
     "text": [
      "Processing Record 224 | Usinsk\n",
      "Processing Record 225 | Vanimo\n",
      "Processing Record 226 | Bow Island\n",
      "Processing Record 227 | Clyde River\n",
      "City not found. Skipping...\n",
      "Processing Record 228 | Chara\n",
      "Processing Record 229 | Saint Paul Harbor\n",
      "Processing Record 230 | Chicama\n",
      "Processing Record 231 | Kruisfontein\n",
      "Processing Record 232 | High Level\n",
      "Processing Record 233 | Sampit\n",
      "Processing Record 234 | Fernie\n",
      "City not found. Skipping...\n",
      "Processing Record 235 | Broken Hill\n",
      "Processing Record 236 | Inuvik\n",
      "Processing Record 237 | Kidal\n",
      "Processing Record 238 | Shakhtinsk\n",
      "Processing Record 239 | Pangnirtung\n",
      "Processing Record 240 | Dumka\n",
      "Processing Record 241 | San Fernando del Valle de Catamarca\n",
      "Processing Record 242 | Amahai\n",
      "Processing Record 243 | Talnakh\n",
      "Processing Record 244 | Kloulklubed\n",
      "Processing Record 245 | Khanbari\n",
      "Processing Record 246 | Tazovsky\n",
      "City not found. Skipping...\n",
      "Processing Record 247 | Chāndor\n",
      "Processing Record 248 | Ayna\n",
      "Processing Record 249 | Pacific Grove\n",
      "City not found. Skipping...\n",
      "Processing Record 250 | Pauini\n",
      "Processing Record 251 | Liverpool\n",
      "Processing Record 252 | Rio Grande\n",
      "Processing Record 253 | Saint Anthony\n",
      "Processing Record 254 | Alice Springs\n",
      "Processing Record 255 | Half Moon Bay\n",
      "Processing Record 256 | Anadyr\n",
      "Processing Record 257 | Carupano\n",
      "Processing Record 258 | Alofi\n",
      "Processing Record 259 | Barcelona\n",
      "Processing Record 260 | Tānsen\n",
      "Processing Record 261 | Sydney\n",
      "Processing Record 262 | Shingū\n",
      "City not found. Skipping...\n",
      "Processing Record 263 | Jalu\n",
      "Processing Record 264 | Gbarnga\n",
      "City not found. Skipping...\n",
      "Processing Record 265 | Rafaela\n",
      "Processing Record 266 | La Asuncion\n",
      "Processing Record 267 | Québec\n",
      "Processing Record 268 | Kavieng\n",
      "Processing Record 269 | Mandalgovi\n",
      "Processing Record 270 | Xinzhou\n",
      "Processing Record 271 | Ucluelet\n",
      "Processing Record 272 | Dunn\n",
      "Processing Record 273 | Kupang\n",
      "Processing Record 274 | Emerald\n",
      "Processing Record 275 | Kingman\n",
      "Processing Record 276 | Olavarría\n",
      "Processing Record 277 | Mahon\n",
      "City not found. Skipping...\n",
      "Processing Record 278 | Malpe\n",
      "Processing Record 279 | Hofn\n",
      "Processing Record 280 | Bandar-e Lengeh\n",
      "Processing Record 281 | Zeya\n",
      "Processing Record 282 | Puerto del Rosario\n",
      "Processing Record 283 | Prado\n",
      "Processing Record 284 | Pemangkat\n",
      "Processing Record 285 | Cockburn Town\n",
      "Processing Record 286 | Hasaki\n",
      "Processing Record 287 | Puerto Carreño\n",
      "Processing Record 288 | Jinka\n",
      "Processing Record 289 | Suclayin\n",
      "Processing Record 290 | Jadu\n",
      "Processing Record 291 | Toora-Khem\n",
      "Processing Record 292 | Vehari\n",
      "Processing Record 293 | Baoqing\n",
      "Processing Record 294 | Cap Malheureux\n",
      "Processing Record 295 | Isangel\n",
      "Processing Record 296 | La Macarena\n",
      "Processing Record 297 | Monticello\n",
      "Processing Record 298 | Kosa\n",
      "Processing Record 299 | Pasinler\n",
      "Processing Record 300 | Labis\n",
      "City not found. Skipping...\n",
      "Processing Record 301 | Bucerías\n",
      "Processing Record 302 | Notsé\n",
      "Processing Record 303 | Ufa\n",
      "Processing Record 304 | Ranong\n",
      "Processing Record 305 | Caucayá\n",
      "Processing Record 306 | Leer\n",
      "Processing Record 307 | San Cristobal\n",
      "Processing Record 308 | Ternate\n",
      "Processing Record 309 | Touros\n",
      "Processing Record 310 | Leshukonskoye\n",
      "Processing Record 311 | Zhigansk\n",
      "Processing Record 312 | Bathsheba\n",
      "Processing Record 313 | Sabha\n",
      "Processing Record 314 | Ahipara\n",
      "Processing Record 315 | Turukhansk\n",
      "Processing Record 316 | Bolivar\n",
      "Processing Record 317 | Lodwar\n",
      "Processing Record 318 | Naze\n",
      "Processing Record 319 | Sturgeon Bay\n",
      "Processing Record 320 | Tautira\n",
      "Processing Record 321 | Mount Isa\n",
      "Processing Record 322 | Anchorage\n",
      "Processing Record 323 | Aloleng\n",
      "Processing Record 324 | Namatanai\n",
      "Processing Record 325 | Port Augusta\n",
      "Processing Record 326 | Along\n",
      "Processing Record 327 | Port Blair\n",
      "Processing Record 328 | Tiksi\n",
      "Processing Record 329 | Siocon\n",
      "Processing Record 330 | Kaya\n",
      "Processing Record 331 | Phalaborwa\n",
      "Processing Record 332 | Oodweyne\n",
      "Processing Record 333 | Mwene-Ditu\n",
      "Processing Record 334 | Sosnovo-Ozerskoye\n",
      "Processing Record 335 | Dhidhdhoo\n",
      "Processing Record 336 | Samarkand\n",
      "Processing Record 337 | Ouallam\n",
      "Processing Record 338 | Puerto Madryn\n",
      "Processing Record 339 | Wenling\n",
      "Processing Record 340 | Tommot\n",
      "Processing Record 341 | Longyearbyen\n",
      "Processing Record 342 | Bima\n",
      "Processing Record 343 | Msowero\n",
      "Processing Record 344 | Iracoubo\n",
      "Processing Record 345 | Vila\n",
      "Processing Record 346 | Yagodnoye\n",
      "Processing Record 347 | Rovaniemi\n",
      "Processing Record 348 | Ferkessédougou\n",
      "Processing Record 349 | Coquimbo\n",
      "Processing Record 350 | Sioux Lookout\n",
      "Processing Record 351 | Gonbad-e Kāvūs\n",
      "Processing Record 352 | San\n",
      "Processing Record 353 | Serenje\n",
      "Processing Record 354 | General Roca\n",
      "Processing Record 355 | Vostok\n",
      "Processing Record 356 | Mīzan Teferī\n",
      "Processing Record 357 | Henties Bay\n",
      "Processing Record 358 | Coihueco\n",
      "Processing Record 359 | Kahului\n",
      "Processing Record 360 | Torbay\n",
      "Processing Record 361 | Inawayan\n",
      "Processing Record 362 | Langxiang\n",
      "Processing Record 363 | Dongsheng\n",
      "Processing Record 364 | Harper\n",
      "Processing Record 365 | Sinnamary\n",
      "Processing Record 366 | College\n",
      "Processing Record 367 | Narsaq\n",
      "Processing Record 368 | Gunupur\n",
      "Processing Record 369 | Curup\n",
      "Processing Record 370 | El Tigre\n",
      "Processing Record 371 | Devonport\n",
      "Processing Record 372 | Bengkulu\n",
      "Processing Record 373 | Tsuruoka\n",
      "Processing Record 374 | Tual\n",
      "Processing Record 375 | Leningradskiy\n",
      "Processing Record 376 | Banda Aceh\n",
      "Processing Record 377 | Huanren\n",
      "Processing Record 378 | Ballina\n",
      "Processing Record 379 | Grand Gaube\n",
      "Processing Record 380 | Bonavista\n",
      "Processing Record 381 | Švenčionėliai\n",
      "Processing Record 382 | Toronto\n",
      "City not found. Skipping...\n",
      "Processing Record 383 | Balkanabat\n",
      "Processing Record 384 | Dundalk\n",
      "Processing Record 385 | Bilibino\n",
      "Processing Record 386 | Yartsevo\n",
      "Processing Record 387 | Ekimchan\n",
      "Processing Record 388 | Fauske\n",
      "Processing Record 389 | Mirador\n",
      "Processing Record 390 | Dingle\n",
      "Processing Record 391 | Xinyu\n",
      "Processing Record 392 | Prince George\n",
      "Processing Record 393 | Zyryanka\n",
      "Processing Record 394 | Los Llanos de Aridane\n",
      "City not found. Skipping...\n",
      "Processing Record 395 | Nabire\n",
      "Processing Record 396 | Fort Smith\n",
      "Processing Record 397 | Barrhead\n",
      "Processing Record 398 | Cassilândia\n",
      "Processing Record 399 | Sivas Province\n",
      "Processing Record 400 | Bafatá\n",
      "Processing Record 401 | Holetown\n",
      "Processing Record 402 | Gushikawa\n",
      "Processing Record 403 | São Lourenço do Sul\n",
      "Processing Record 404 | Kosh-Agach\n",
      "City not found. Skipping...\n",
      "Processing Record 405 | Fakel\n",
      "Processing Record 406 | Nador\n",
      "Processing Record 407 | Mackay\n",
      "Processing Record 408 | San Ramon\n",
      "Processing Record 409 | Meulaboh\n",
      "Processing Record 410 | Ayan\n",
      "Processing Record 411 | Chifeng\n",
      "Processing Record 412 | Bubaque\n",
      "Processing Record 413 | Nishihara\n",
      "Processing Record 414 | Turinskaya Sloboda\n",
      "Processing Record 415 | Abu Kamal\n",
      "Processing Record 416 | Abong Mbang\n",
      "Processing Record 417 | Guozhen\n",
      "Processing Record 418 | Maracaçumé\n",
      "Processing Record 419 | Waipawa\n",
      "Processing Record 420 | Uryupinsk\n",
      "Processing Record 421 | Mizur\n",
      "Processing Record 422 | Slave Lake\n",
      "Processing Record 423 | Ust'-Karsk\n",
      "Processing Record 424 | Lálas\n",
      "Processing Record 425 | Mahibadhoo\n",
      "Processing Record 426 | Kavaratti\n",
      "Processing Record 427 | Naryan-Mar\n",
      "Processing Record 428 | Bandarbeyla\n",
      "Processing Record 429 | Korla\n",
      "Processing Record 430 | Kentau\n",
      "Processing Record 431 | Smithers\n",
      "Processing Record 432 | Lalibela\n",
      "Processing Record 433 | Gandajika\n",
      "Processing Record 434 | Bitung\n",
      "Processing Record 435 | Verāval\n",
      "Processing Record 436 | Chernyshevskiy\n",
      "Processing Record 437 | Copiapó\n",
      "Processing Record 438 | Kipushi\n",
      "Processing Record 439 | Lázaro Cárdenas\n",
      "Processing Record 440 | Lokachi\n",
      "Processing Record 441 | Salalah\n",
      "Processing Record 442 | Kutum\n",
      "City not found. Skipping...\n",
      "Processing Record 443 | Uthal\n",
      "Processing Record 444 | Ilebo\n",
      "Processing Record 445 | Quatre Cocos\n",
      "City not found. Skipping...\n",
      "Processing Record 446 | Porto-Novo\n",
      "Processing Record 447 | Asău\n",
      "Processing Record 448 | Vidim\n",
      "Processing Record 449 | Mozarlândia\n",
      "Processing Record 450 | Freeport\n",
      "Processing Record 451 | San Patricio\n",
      "Processing Record 452 | Bereda\n",
      "Processing Record 453 | Challakere\n",
      "Processing Record 454 | Benguela\n",
      "Processing Record 455 | Shache\n",
      "Processing Record 456 | Manzhouli\n",
      "Processing Record 457 | Mian Channu\n",
      "City not found. Skipping...\n"
     ]
    },
    {
     "name": "stdout",
     "output_type": "stream",
     "text": [
      "Processing Record 458 | Belmonte\n",
      "Processing Record 459 | San Policarpo\n",
      "Processing Record 460 | Sittwe\n",
      "Processing Record 461 | Pandamatenga\n",
      "Processing Record 462 | La Orilla\n",
      "Processing Record 463 | Westport\n",
      "Processing Record 464 | Ostrovnoy\n",
      "Processing Record 465 | Atar\n",
      "Processing Record 466 | Altar\n",
      "Processing Record 467 | Hamilton\n",
      "Processing Record 468 | Ambon City\n",
      "Processing Record 469 | Bayan\n",
      "Processing Record 470 | Marabu\n",
      "Processing Record 471 | Wanning\n",
      "Processing Record 472 | Fort Frances\n",
      "Processing Record 473 | Kendari\n",
      "Processing Record 474 | Basco\n",
      "Processing Record 475 | Ekhabi\n",
      "Processing Record 476 | Quelimane\n",
      "Processing Record 477 | Taitung City\n",
      "Processing Record 478 | Bad Liebenwerda\n",
      "Processing Record 479 | Mokhsogollokh\n",
      "Processing Record 480 | Kapuskasing\n",
      "Processing Record 481 | Athabasca\n",
      "Processing Record 482 | Kieta\n",
      "Processing Record 483 | Santa Maria\n",
      "Processing Record 484 | Menongue\n",
      "Processing Record 485 | Mehamn\n",
      "Processing Record 486 | Deputatsky\n",
      "Processing Record 487 | Siyabuswa\n",
      "Processing Record 488 | Gemeente Wageningen\n",
      "Processing Record 489 | Naples\n",
      "City not found. Skipping...\n",
      "Processing Record 490 | Airai\n",
      "Processing Record 491 | Galveston\n",
      "Processing Record 492 | Doha\n",
      "Processing Record 493 | Vieques\n",
      "Processing Record 494 | Souris\n",
      "Processing Record 495 | Price\n",
      "Processing Record 496 | Pangai\n",
      "Processing Record 497 | Yatou\n",
      "Processing Record 498 | Palmer\n",
      "Processing Record 499 | Constitución\n",
      "Processing Record 500 | Barra de Tecoanapa\n",
      "Processing Record 501 | Talcahuano\n",
      "Processing Record 502 | Chu\n",
      "Processing Record 503 | Ancud\n",
      "Processing Record 504 | Great Yarmouth\n",
      "Processing Record 505 | Andros Town\n",
      "Processing Record 506 | Belyy Yar\n",
      "Processing Record 507 | Fuling\n",
      "City not found. Skipping...\n",
      "Processing Record 508 | Joshīmath\n",
      "Processing Record 509 | Kikwit\n",
      "Processing Record 510 | Shīeli\n",
      "Processing Record 511 | Omboué\n",
      "Processing Record 512 | Batangafo\n",
      "Processing Record 513 | Honiara\n",
      "Processing Record 514 | Uşak Province\n",
      "Processing Record 515 | Jieshi\n",
      "Processing Record 516 | Gainesville\n",
      "City not found. Skipping...\n",
      "Processing Record 517 | Athens\n",
      "Processing Record 518 | Phan Thiet\n",
      "Processing Record 519 | Vurnary\n",
      "Processing Record 520 | São Filipe\n",
      "Processing Record 521 | Nouakchott\n",
      "Processing Record 522 | Lyngdal\n",
      "Processing Record 523 | Marand\n",
      "Processing Record 524 | Umluj\n",
      "Processing Record 525 | Maun\n",
      "Processing Record 526 | Guerrero Negro\n",
      "Processing Record 527 | Baruun-Urt\n",
      "City not found. Skipping...\n",
      "Processing Record 528 | Ketchikan\n",
      "Processing Record 529 | Ninotsminda\n",
      "Processing Record 530 | Tres Arroyos\n",
      "Processing Record 531 | Makakilo City\n",
      "Processing Record 532 | St. George's\n",
      "Processing Record 533 | Kokoda\n",
      "Processing Record 534 | Evensk\n",
      "Processing Record 535 | San Javier\n",
      "Processing Record 536 | Yeppoon\n",
      "Processing Record 537 | Viranşehir\n",
      "Processing Record 538 | Salinópolis\n",
      "Processing Record 539 | Redlands\n",
      "Processing Record 540 | Bowen\n",
      "Processing Record 541 | Myatlevo\n",
      "Processing Record 542 | Liyang\n",
      "Processing Record 543 | Sidi Ali\n",
      "Processing Record 544 | Carutapera\n",
      "Processing Record 545 | Dauphin\n",
      "Processing Record 546 | Piastów\n",
      "Processing Record 547 | Mattru\n",
      "Processing Record 548 | Karlskrona\n",
      "Processing Record 549 | Ambalavao\n",
      "City not found. Skipping...\n",
      "Processing Record 550 | La Rioja\n",
      "Processing Record 551 | Province of Mantua\n",
      "City not found. Skipping...\n",
      "Processing Record 552 | Hof\n",
      "Processing Record 553 | Inta\n",
      "Processing Record 554 | Fort Nelson\n",
      "Data Retrieval Complete\n"
     ]
    }
   ],
   "source": [
    "# Set Up Lists to Hold Reponse Info\n",
    "city_name = []\n",
    "country = []\n",
    "date = []\n",
    "latitude = []\n",
    "longitude = []\n",
    "max_temperature = []\n",
    "humidity = []\n",
    "cloudiness = []\n",
    "wind_speed = []\n",
    "\n",
    "# Processing Record Counter Starting a 1\n",
    "processing_record = 1\n",
    "\n",
    "# Print Starting Log Statement\n",
    "print(\"Beginning Data Retrieval\")\n",
    "\n",
    "# Loop Through List of Cities & Perform a Request for Data on Each\n",
    "for city in cities:\n",
    "\n",
    "# Exception Handling\n",
    "    try:\n",
    "        response = requests.get(query_url + city).json()\n",
    "        city_name.append(response[\"name\"])\n",
    "        country.append(response[\"sys\"][\"country\"])\n",
    "        date.append(response[\"dt\"])\n",
    "        latitude.append(response[\"coord\"][\"lat\"])\n",
    "        longitude.append(response[\"coord\"][\"lon\"])\n",
    "        max_temperature.append(response[\"main\"][\"temp_max\"])\n",
    "        humidity.append(response[\"main\"][\"humidity\"])\n",
    "        cloudiness.append(response[\"clouds\"][\"all\"])\n",
    "        wind_speed.append(response[\"wind\"][\"speed\"])\n",
    "        city_record = response[\"name\"]\n",
    "        print(f\"Processing Record {processing_record} | {city_record}\")\n",
    "        \n",
    "        # Increase Processing Record Counter by 1 For Each Loop\n",
    "        processing_record += 1\n",
    "        \n",
    "    except:\n",
    "        print(\"City not found. Skipping...\") \n",
    "    continue\n",
    "\n",
    "# Print Ending Log Statement\n",
    "print(\"Data Retrieval Complete\")"
   ]
  },
  {
   "cell_type": "markdown",
   "metadata": {},
   "source": [
    "### Convert Raw Data to DataFrame\n",
    "* Export the city data into a .csv.\n",
    "* Display the DataFrame"
   ]
  },
  {
   "cell_type": "code",
   "execution_count": 5,
   "metadata": {},
   "outputs": [
    {
     "data": {
      "text/html": [
       "<div>\n",
       "<style scoped>\n",
       "    .dataframe tbody tr th:only-of-type {\n",
       "        vertical-align: middle;\n",
       "    }\n",
       "\n",
       "    .dataframe tbody tr th {\n",
       "        vertical-align: top;\n",
       "    }\n",
       "\n",
       "    .dataframe thead th {\n",
       "        text-align: right;\n",
       "    }\n",
       "</style>\n",
       "<table border=\"1\" class=\"dataframe\">\n",
       "  <thead>\n",
       "    <tr style=\"text-align: right;\">\n",
       "      <th></th>\n",
       "      <th>City</th>\n",
       "      <th>Country</th>\n",
       "      <th>Date</th>\n",
       "      <th>Latitude</th>\n",
       "      <th>Longitude</th>\n",
       "      <th>Max Temperature</th>\n",
       "      <th>Humidity</th>\n",
       "      <th>Cloudiness</th>\n",
       "      <th>Wind Speed</th>\n",
       "    </tr>\n",
       "  </thead>\n",
       "  <tbody>\n",
       "    <tr>\n",
       "      <th>0</th>\n",
       "      <td>Luanda</td>\n",
       "      <td>AO</td>\n",
       "      <td>1622603728</td>\n",
       "      <td>-8.8368</td>\n",
       "      <td>13.2343</td>\n",
       "      <td>77.00</td>\n",
       "      <td>88</td>\n",
       "      <td>75</td>\n",
       "      <td>3.44</td>\n",
       "    </tr>\n",
       "    <tr>\n",
       "      <th>1</th>\n",
       "      <td>Geraldton</td>\n",
       "      <td>AU</td>\n",
       "      <td>1622603884</td>\n",
       "      <td>-28.7667</td>\n",
       "      <td>114.6000</td>\n",
       "      <td>64.81</td>\n",
       "      <td>59</td>\n",
       "      <td>0</td>\n",
       "      <td>6.71</td>\n",
       "    </tr>\n",
       "    <tr>\n",
       "      <th>2</th>\n",
       "      <td>Lensk</td>\n",
       "      <td>RU</td>\n",
       "      <td>1622603885</td>\n",
       "      <td>60.7253</td>\n",
       "      <td>114.9278</td>\n",
       "      <td>78.40</td>\n",
       "      <td>33</td>\n",
       "      <td>99</td>\n",
       "      <td>3.71</td>\n",
       "    </tr>\n",
       "    <tr>\n",
       "      <th>3</th>\n",
       "      <td>Kisangani</td>\n",
       "      <td>CD</td>\n",
       "      <td>1622603885</td>\n",
       "      <td>0.5167</td>\n",
       "      <td>25.2000</td>\n",
       "      <td>69.84</td>\n",
       "      <td>94</td>\n",
       "      <td>91</td>\n",
       "      <td>2.19</td>\n",
       "    </tr>\n",
       "    <tr>\n",
       "      <th>4</th>\n",
       "      <td>Najrān</td>\n",
       "      <td>SA</td>\n",
       "      <td>1622603886</td>\n",
       "      <td>17.4924</td>\n",
       "      <td>44.1277</td>\n",
       "      <td>72.25</td>\n",
       "      <td>19</td>\n",
       "      <td>23</td>\n",
       "      <td>3.62</td>\n",
       "    </tr>\n",
       "  </tbody>\n",
       "</table>\n",
       "</div>"
      ],
      "text/plain": [
       "        City Country        Date  Latitude  Longitude  Max Temperature  \\\n",
       "0     Luanda      AO  1622603728   -8.8368    13.2343            77.00   \n",
       "1  Geraldton      AU  1622603884  -28.7667   114.6000            64.81   \n",
       "2      Lensk      RU  1622603885   60.7253   114.9278            78.40   \n",
       "3  Kisangani      CD  1622603885    0.5167    25.2000            69.84   \n",
       "4     Najrān      SA  1622603886   17.4924    44.1277            72.25   \n",
       "\n",
       "   Humidity  Cloudiness  Wind Speed  \n",
       "0        88          75        3.44  \n",
       "1        59           0        6.71  \n",
       "2        33          99        3.71  \n",
       "3        94          91        2.19  \n",
       "4        19          23        3.62  "
      ]
     },
     "execution_count": 5,
     "metadata": {},
     "output_type": "execute_result"
    }
   ],
   "source": [
    "# Create a dictionaryfrom Cities, Latitude, Longitude, Temperature, Humidity, Cloudiness & Wind Speed\n",
    "weather_dict = {\n",
    "    \"City\": city_name,\n",
    "    \"Country\": country,\n",
    "    \"Date\": date,\n",
    "    \"Latitude\": latitude,\n",
    "    \"Longitude\": longitude,\n",
    "    \"Max Temperature\": max_temperature,\n",
    "    \"Humidity\": humidity,\n",
    "    \"Cloudiness\": cloudiness,\n",
    "    \"Wind Speed\": wind_speed\n",
    "}\n",
    "\n",
    "#Create a Dataframe from the dictionary\n",
    "weather_df = pd.DataFrame(weather_dict)\n",
    "\n",
    "#Display the DataFrame\n",
    "weather_df.head()"
   ]
  },
  {
   "cell_type": "code",
   "execution_count": 6,
   "metadata": {},
   "outputs": [],
   "source": [
    "# Export the city data into a .csv.\n",
    "weather_df.to_csv(\"./Figures/weather_data.csv\")"
   ]
  },
  {
   "cell_type": "markdown",
   "metadata": {},
   "source": [
    "## Inspect the data and remove the cities where the humidity > 100%.\n",
    "----\n",
    "Skip this step if there are no cities that have humidity > 100%. "
   ]
  },
  {
   "cell_type": "code",
   "execution_count": 7,
   "metadata": {},
   "outputs": [
    {
     "data": {
      "text/html": [
       "<div>\n",
       "<style scoped>\n",
       "    .dataframe tbody tr th:only-of-type {\n",
       "        vertical-align: middle;\n",
       "    }\n",
       "\n",
       "    .dataframe tbody tr th {\n",
       "        vertical-align: top;\n",
       "    }\n",
       "\n",
       "    .dataframe thead th {\n",
       "        text-align: right;\n",
       "    }\n",
       "</style>\n",
       "<table border=\"1\" class=\"dataframe\">\n",
       "  <thead>\n",
       "    <tr style=\"text-align: right;\">\n",
       "      <th></th>\n",
       "      <th>Date</th>\n",
       "      <th>Latitude</th>\n",
       "      <th>Longitude</th>\n",
       "      <th>Max Temperature</th>\n",
       "      <th>Humidity</th>\n",
       "      <th>Cloudiness</th>\n",
       "      <th>Wind Speed</th>\n",
       "    </tr>\n",
       "  </thead>\n",
       "  <tbody>\n",
       "    <tr>\n",
       "      <th>count</th>\n",
       "      <td>5.540000e+02</td>\n",
       "      <td>554.000000</td>\n",
       "      <td>554.000000</td>\n",
       "      <td>554.000000</td>\n",
       "      <td>554.000000</td>\n",
       "      <td>554.000000</td>\n",
       "      <td>554.000000</td>\n",
       "    </tr>\n",
       "    <tr>\n",
       "      <th>mean</th>\n",
       "      <td>1.622604e+09</td>\n",
       "      <td>20.431145</td>\n",
       "      <td>19.977205</td>\n",
       "      <td>67.022455</td>\n",
       "      <td>68.137184</td>\n",
       "      <td>57.487365</td>\n",
       "      <td>7.409964</td>\n",
       "    </tr>\n",
       "    <tr>\n",
       "      <th>std</th>\n",
       "      <td>1.089160e+02</td>\n",
       "      <td>33.043021</td>\n",
       "      <td>91.976746</td>\n",
       "      <td>15.003760</td>\n",
       "      <td>20.929727</td>\n",
       "      <td>38.417673</td>\n",
       "      <td>5.184737</td>\n",
       "    </tr>\n",
       "    <tr>\n",
       "      <th>min</th>\n",
       "      <td>1.622603e+09</td>\n",
       "      <td>-54.800000</td>\n",
       "      <td>-179.166700</td>\n",
       "      <td>21.310000</td>\n",
       "      <td>7.000000</td>\n",
       "      <td>0.000000</td>\n",
       "      <td>0.000000</td>\n",
       "    </tr>\n",
       "    <tr>\n",
       "      <th>25%</th>\n",
       "      <td>1.622604e+09</td>\n",
       "      <td>-5.549750</td>\n",
       "      <td>-60.119375</td>\n",
       "      <td>57.217500</td>\n",
       "      <td>57.000000</td>\n",
       "      <td>18.000000</td>\n",
       "      <td>3.440000</td>\n",
       "    </tr>\n",
       "    <tr>\n",
       "      <th>50%</th>\n",
       "      <td>1.622604e+09</td>\n",
       "      <td>24.860650</td>\n",
       "      <td>25.671850</td>\n",
       "      <td>69.055000</td>\n",
       "      <td>73.000000</td>\n",
       "      <td>69.000000</td>\n",
       "      <td>6.110000</td>\n",
       "    </tr>\n",
       "    <tr>\n",
       "      <th>75%</th>\n",
       "      <td>1.622604e+09</td>\n",
       "      <td>49.479225</td>\n",
       "      <td>102.899075</td>\n",
       "      <td>78.810000</td>\n",
       "      <td>83.000000</td>\n",
       "      <td>95.000000</td>\n",
       "      <td>10.755000</td>\n",
       "    </tr>\n",
       "    <tr>\n",
       "      <th>max</th>\n",
       "      <td>1.622604e+09</td>\n",
       "      <td>78.218600</td>\n",
       "      <td>179.316700</td>\n",
       "      <td>96.620000</td>\n",
       "      <td>100.000000</td>\n",
       "      <td>100.000000</td>\n",
       "      <td>32.390000</td>\n",
       "    </tr>\n",
       "  </tbody>\n",
       "</table>\n",
       "</div>"
      ],
      "text/plain": [
       "               Date    Latitude   Longitude  Max Temperature    Humidity  \\\n",
       "count  5.540000e+02  554.000000  554.000000       554.000000  554.000000   \n",
       "mean   1.622604e+09   20.431145   19.977205        67.022455   68.137184   \n",
       "std    1.089160e+02   33.043021   91.976746        15.003760   20.929727   \n",
       "min    1.622603e+09  -54.800000 -179.166700        21.310000    7.000000   \n",
       "25%    1.622604e+09   -5.549750  -60.119375        57.217500   57.000000   \n",
       "50%    1.622604e+09   24.860650   25.671850        69.055000   73.000000   \n",
       "75%    1.622604e+09   49.479225  102.899075        78.810000   83.000000   \n",
       "max    1.622604e+09   78.218600  179.316700        96.620000  100.000000   \n",
       "\n",
       "       Cloudiness  Wind Speed  \n",
       "count  554.000000  554.000000  \n",
       "mean    57.487365    7.409964  \n",
       "std     38.417673    5.184737  \n",
       "min      0.000000    0.000000  \n",
       "25%     18.000000    3.440000  \n",
       "50%     69.000000    6.110000  \n",
       "75%     95.000000   10.755000  \n",
       "max    100.000000   32.390000  "
      ]
     },
     "execution_count": 7,
     "metadata": {},
     "output_type": "execute_result"
    }
   ],
   "source": [
    "#show key stats\n",
    "weather_df.describe()\n",
    "\n"
   ]
  },
  {
   "cell_type": "code",
   "execution_count": 8,
   "metadata": {},
   "outputs": [],
   "source": [
    "#  Get the indices of cities that have humidity over 100%.\n",
    "#  SKIP \n",
    "#  Note: max humidity =100%"
   ]
  },
  {
   "cell_type": "code",
   "execution_count": 9,
   "metadata": {},
   "outputs": [],
   "source": [
    "# Make a new DataFrame equal to the city data to drop all humidity outliers by index.\n",
    "# Passing \"inplace=False\" will make a copy of the city_data DataFrame, which we call \"clean_city_data\".\n",
    "#SKIP because max humitiy not >100%"
   ]
  },
  {
   "cell_type": "code",
   "execution_count": null,
   "metadata": {},
   "outputs": [],
   "source": [
    "\n"
   ]
  },
  {
   "cell_type": "markdown",
   "metadata": {},
   "source": [
    "## Plotting the Data\n",
    "* Use proper labeling of the plots using plot titles (including date of analysis) and axes labels.\n",
    "* Save the plotted figures as .pngs."
   ]
  },
  {
   "cell_type": "markdown",
   "metadata": {},
   "source": [
    "## Latitude vs. Temperature Plot"
   ]
  },
  {
   "cell_type": "code",
   "execution_count": 10,
   "metadata": {
    "scrolled": true
   },
   "outputs": [
    {
     "data": {
      "image/png": "[encoded data removed]",
      "text/plain": [
       "<Figure size 432x288 with 1 Axes>"
      ]
     },
     "metadata": {
      "needs_background": "light"
     },
     "output_type": "display_data"
    }
   ],
   "source": [
    "x_latitutude = weather_df[\"Latitude\"]\n",
    "y_temperature = weather_df[\"Max Temperature\"]\n",
    "plt.scatter(x_latitutude, y_temperature)\n",
    "\n",
    "plt.title(\"Latitude vs. Temperature\")\n",
    "plt.ylabel(\"Temperature (F)\")\n",
    "plt.xlabel(\"Latitude\")\n",
    "plt.grid(True)\n",
    "\n",
    "plt.savefig(\"./Figures/Latitude_vs_Temperature.png\")\n",
    "\n",
    "plt.show()"
   ]
  },
  {
   "cell_type": "markdown",
   "metadata": {},
   "source": [
    "## Latitude vs. Humidity Plot"
   ]
  },
  {
   "cell_type": "code",
   "execution_count": 11,
   "metadata": {},
   "outputs": [
    {
     "data": {
      "image/png": "[encoded data removed]",
      "text/plain": [
       "<Figure size 432x288 with 1 Axes>"
      ]
     },
     "metadata": {
      "needs_background": "light"
     },
     "output_type": "display_data"
    }
   ],
   "source": [
    "y_humidity = weather_df[\"Humidity\"]\n",
    "plt.scatter(x_latitutude, y_humidity)\n",
    "\n",
    "plt.title(\"Latitude vs. Humidity\")\n",
    "plt.ylabel(\"Humidity %\")\n",
    "plt.xlabel(\"Latitude\")\n",
    "plt.grid(True)\n",
    "\n",
    "plt.savefig(\"./Figures/CLatitude_vs_Humidity.png\")\n",
    "plt.show()"
   ]
  },
  {
   "cell_type": "markdown",
   "metadata": {},
   "source": [
    "## Latitude vs. Cloudiness Plot"
   ]
  },
  {
   "cell_type": "code",
   "execution_count": 12,
   "metadata": {},
   "outputs": [
    {
     "data": {
      "image/png": "[encoded data removed]",
      "text/plain": [
       "<Figure size 432x288 with 1 Axes>"
      ]
     },
     "metadata": {
      "needs_background": "light"
     },
     "output_type": "display_data"
    }
   ],
   "source": [
    "y_cloudiness=weather_df[\"Cloudiness\"]\n",
    "plt.scatter(x_latitutude, y_cloudiness)\n",
    "\n",
    "plt.title(\"Latitude vs. Cloudiness\")\n",
    "plt.ylabel(\"Cloudiness %\")\n",
    "plt.xlabel(\"Latitude\")\n",
    "plt.grid(True)\n",
    "\n",
    "plt.savefig(\"./Figures/Latitude_vs_Cloudiness.png\")\n",
    "plt.show()"
   ]
  },
  {
   "cell_type": "markdown",
   "metadata": {},
   "source": [
    "## Latitude vs. Wind Speed Plot"
   ]
  },
  {
   "cell_type": "code",
   "execution_count": 13,
   "metadata": {},
   "outputs": [
    {
     "data": {
      "image/png": "[encoded data removed]",
      "text/plain": [
       "<Figure size 432x288 with 1 Axes>"
      ]
     },
     "metadata": {
      "needs_background": "light"
     },
     "output_type": "display_data"
    }
   ],
   "source": [
    "y_speed=weather_df[\"Wind Speed\"]\n",
    "plt.scatter(x_latitutude, y_speed)\n",
    "\n",
    "plt.title(\"City Latitude vs. Wind Speed\")\n",
    "plt.ylabel(\"Wind Speed (mph)\")\n",
    "plt.xlabel(\"Latitude\")\n",
    "plt.grid(True)\n",
    "\n",
    "plt.savefig(\"./Figures/Latitude_vs_Wind_Speed.png\")\n",
    "\n",
    "plt.show()"
   ]
  },
  {
   "cell_type": "markdown",
   "metadata": {},
   "source": [
    "## Linear Regression"
   ]
  },
  {
   "cell_type": "code",
   "execution_count": 14,
   "metadata": {},
   "outputs": [
    {
     "data": {
      "text/html": [
       "<div>\n",
       "<style scoped>\n",
       "    .dataframe tbody tr th:only-of-type {\n",
       "        vertical-align: middle;\n",
       "    }\n",
       "\n",
       "    .dataframe tbody tr th {\n",
       "        vertical-align: top;\n",
       "    }\n",
       "\n",
       "    .dataframe thead th {\n",
       "        text-align: right;\n",
       "    }\n",
       "</style>\n",
       "<table border=\"1\" class=\"dataframe\">\n",
       "  <thead>\n",
       "    <tr style=\"text-align: right;\">\n",
       "      <th></th>\n",
       "      <th>City</th>\n",
       "      <th>Country</th>\n",
       "      <th>Date</th>\n",
       "      <th>Latitude</th>\n",
       "      <th>Longitude</th>\n",
       "      <th>Max Temperature</th>\n",
       "      <th>Humidity</th>\n",
       "      <th>Cloudiness</th>\n",
       "      <th>Wind Speed</th>\n",
       "    </tr>\n",
       "  </thead>\n",
       "  <tbody>\n",
       "    <tr>\n",
       "      <th>0</th>\n",
       "      <td>Luanda</td>\n",
       "      <td>AO</td>\n",
       "      <td>1622603728</td>\n",
       "      <td>-8.8368</td>\n",
       "      <td>13.2343</td>\n",
       "      <td>77.00</td>\n",
       "      <td>88</td>\n",
       "      <td>75</td>\n",
       "      <td>3.44</td>\n",
       "    </tr>\n",
       "    <tr>\n",
       "      <th>1</th>\n",
       "      <td>Geraldton</td>\n",
       "      <td>AU</td>\n",
       "      <td>1622603884</td>\n",
       "      <td>-28.7667</td>\n",
       "      <td>114.6000</td>\n",
       "      <td>64.81</td>\n",
       "      <td>59</td>\n",
       "      <td>0</td>\n",
       "      <td>6.71</td>\n",
       "    </tr>\n",
       "    <tr>\n",
       "      <th>7</th>\n",
       "      <td>Port Alfred</td>\n",
       "      <td>ZA</td>\n",
       "      <td>1622603889</td>\n",
       "      <td>-33.5906</td>\n",
       "      <td>26.8910</td>\n",
       "      <td>58.28</td>\n",
       "      <td>87</td>\n",
       "      <td>48</td>\n",
       "      <td>13.65</td>\n",
       "    </tr>\n",
       "    <tr>\n",
       "      <th>8</th>\n",
       "      <td>Rikitea</td>\n",
       "      <td>PF</td>\n",
       "      <td>1622603890</td>\n",
       "      <td>-23.1203</td>\n",
       "      <td>-134.9692</td>\n",
       "      <td>71.35</td>\n",
       "      <td>59</td>\n",
       "      <td>10</td>\n",
       "      <td>20.62</td>\n",
       "    </tr>\n",
       "    <tr>\n",
       "      <th>9</th>\n",
       "      <td>Hobart</td>\n",
       "      <td>AU</td>\n",
       "      <td>1622603703</td>\n",
       "      <td>-42.8794</td>\n",
       "      <td>147.3294</td>\n",
       "      <td>60.26</td>\n",
       "      <td>50</td>\n",
       "      <td>0</td>\n",
       "      <td>3.00</td>\n",
       "    </tr>\n",
       "  </tbody>\n",
       "</table>\n",
       "</div>"
      ],
      "text/plain": [
       "          City Country        Date  Latitude  Longitude  Max Temperature  \\\n",
       "0       Luanda      AO  1622603728   -8.8368    13.2343            77.00   \n",
       "1    Geraldton      AU  1622603884  -28.7667   114.6000            64.81   \n",
       "7  Port Alfred      ZA  1622603889  -33.5906    26.8910            58.28   \n",
       "8      Rikitea      PF  1622603890  -23.1203  -134.9692            71.35   \n",
       "9       Hobart      AU  1622603703  -42.8794   147.3294            60.26   \n",
       "\n",
       "   Humidity  Cloudiness  Wind Speed  \n",
       "0        88          75        3.44  \n",
       "1        59           0        6.71  \n",
       "7        87          48       13.65  \n",
       "8        59          10       20.62  \n",
       "9        50           0        3.00  "
      ]
     },
     "execution_count": 14,
     "metadata": {},
     "output_type": "execute_result"
    }
   ],
   "source": [
    "#seperate plots into Northern vs. Southern Hemisphere\n",
    "northern_df = weather_df.loc[weather_df[\"Latitude\"] >= 0,:]\n",
    "southern_df = weather_df.loc[weather_df[\"Latitude\"] < 0,:]\n",
    "\n",
    "northern_df.head()\n",
    "southern_df.head()"
   ]
  },
  {
   "cell_type": "markdown",
   "metadata": {},
   "source": [
    "####  Northern Hemisphere - Max Temp vs. Latitude Linear Regression"
   ]
  },
  {
   "cell_type": "code",
   "execution_count": 15,
   "metadata": {},
   "outputs": [
    {
     "data": {
      "text/plain": [
       "LinregressResult(slope=-0.5760151330274346, intercept=88.97717416597462, rvalue=-0.7319376345195754, pvalue=3.947705561028267e-66, stderr=0.027328355463154295)"
      ]
     },
     "execution_count": 15,
     "metadata": {},
     "output_type": "execute_result"
    }
   ],
   "source": [
    "x_northern = northern_df[\"Latitude\"]\n",
    "y_northern = northern_df[\"Max Temperature\"]\n",
    "model = linregress(x_northern,y_northern)\n",
    "model\n"
   ]
  },
  {
   "cell_type": "code",
   "execution_count": 16,
   "metadata": {},
   "outputs": [
    {
     "name": "stdout",
     "output_type": "stream",
     "text": [
      "y = -0.58x + 88.98\n",
      "R-Squared: -0.73\n"
     ]
    },
    {
     "data": {
      "image/png": "[encoded data removed]",
      "text/plain": [
       "<Figure size 432x288 with 1 Axes>"
      ]
     },
     "metadata": {
      "needs_background": "light"
     },
     "output_type": "display_data"
    },
    {
     "name": "stdout",
     "output_type": "stream",
     "text": [
      "Low R-squared indicates no evidence from model that latitude influences Max Temp\n"
     ]
    },
    {
     "data": {
      "text/plain": [
       "<Figure size 432x288 with 0 Axes>"
      ]
     },
     "metadata": {},
     "output_type": "display_data"
    }
   ],
   "source": [
    "(slope, intercept, rvalue, pvalue, stderr) = linregress(x_northern,y_northern)\n",
    "model = (slope, intercept, rvalue, pvalue, stderr)\n",
    "regression = x_northern * slope + intercept\n",
    "#print(model)\n",
    "line_eq = \"y = \" + str(round(slope,2)) + \"x + \" + str(round(intercept,2))\n",
    "print(line_eq)\n",
    "print(\"R-Squared:\",str(round(rvalue,2)))\n",
    "\n",
    "plt.scatter(x_northern,y_northern)\n",
    "plt.plot(x_northern,regression,\"r\")\n",
    "plt.annotate(line_eq,(8,30),fontsize=14,color=\"red\")\n",
    "plt.xlabel(\"Latitude\")\n",
    "plt.ylabel(\"Temperature (F)\")\n",
    "plt.show()\n",
    "\n",
    "plt.savefig('North_Lat_Temp')\n",
    "print('Low R-squared indicates no evidence from model that latitude influences Max Temp')"
   ]
  },
  {
   "cell_type": "markdown",
   "metadata": {},
   "source": [
    "####  Southern Hemisphere - Max Temp vs. Latitude Linear Regression"
   ]
  },
  {
   "cell_type": "code",
   "execution_count": 17,
   "metadata": {},
   "outputs": [
    {
     "name": "stdout",
     "output_type": "stream",
     "text": [
      "y = 0.66x + 81.29\n",
      "R-Squared: 0.74\n"
     ]
    },
    {
     "data": {
      "image/png": "[encoded data removed]",
      "text/plain": [
       "<Figure size 432x288 with 1 Axes>"
      ]
     },
     "metadata": {
      "needs_background": "light"
     },
     "output_type": "display_data"
    },
    {
     "name": "stdout",
     "output_type": "stream",
     "text": [
      "0.78 R-squared indicates some evidence from model that latitude influences Max Temp in the Southern Hemisphere. For every +1 latitude measure, temperature increases 0.69\n"
     ]
    },
    {
     "data": {
      "text/plain": [
       "<Figure size 432x288 with 0 Axes>"
      ]
     },
     "metadata": {},
     "output_type": "display_data"
    }
   ],
   "source": [
    "x_southern = southern_df[\"Latitude\"]\n",
    "y_southern = southern_df[\"Max Temperature\"]\n",
    "(slope, intercept, rvalue, pvalue, stderr) = linregress(x_southern,y_southern)\n",
    "model = (slope, intercept, rvalue, pvalue, stderr)\n",
    "regression = x_southern * slope + intercept\n",
    "#print(model)\n",
    "line_eq = \"y = \" + str(round(slope,2)) + \"x + \" + str(round(intercept,2))\n",
    "print(line_eq)\n",
    "print(\"R-Squared:\",str(round(rvalue,2)))\n",
    "\n",
    "plt.scatter(x_southern,y_southern)\n",
    "plt.plot(x_southern,regression,\"r\")\n",
    "plt.annotate(line_eq,(-25,30),fontsize=14,color=\"red\")\n",
    "plt.xlabel(\"Latitude\")\n",
    "plt.ylabel(\"Temperature (F)\")\n",
    "plt.show()\n",
    "\n",
    "plt.savefig('South_Lat_Temp')\n",
    "print('0.78 R-squared indicates some evidence from model that latitude influences Max Temp in the Southern Hemisphere. For every +1 latitude measure, temperature increases 0.69')"
   ]
  },
  {
   "cell_type": "markdown",
   "metadata": {},
   "source": [
    "####  Northern Hemisphere - Humidity (%) vs. Latitude Linear Regression"
   ]
  },
  {
   "cell_type": "code",
   "execution_count": 18,
   "metadata": {},
   "outputs": [
    {
     "name": "stdout",
     "output_type": "stream",
     "text": [
      "y = -0.11x + 70.56\n",
      "R-Squared: -0.1\n"
     ]
    },
    {
     "data": {
      "image/png": "[encoded data removed]",
      "text/plain": [
       "<Figure size 432x288 with 1 Axes>"
      ]
     },
     "metadata": {
      "needs_background": "light"
     },
     "output_type": "display_data"
    },
    {
     "name": "stdout",
     "output_type": "stream",
     "text": [
      "Low R-squared indicates no evidence from model that latitude influences Humidity in N. Hemisphere\n"
     ]
    },
    {
     "data": {
      "text/plain": [
       "<Figure size 432x288 with 0 Axes>"
      ]
     },
     "metadata": {},
     "output_type": "display_data"
    }
   ],
   "source": [
    "x_northern = northern_df[\"Latitude\"]\n",
    "y_northern = northern_df[\"Humidity\"]\n",
    "\n",
    "(slope, intercept, rvalue, pvalue, stderr) = linregress(x_northern,y_northern)\n",
    "model = (slope, intercept, rvalue, pvalue, stderr)\n",
    "regression = x_northern * slope + intercept\n",
    "#print(model)\n",
    "line_eq = \"y = \" + str(round(slope,2)) + \"x + \" + str(round(intercept,2))\n",
    "print(line_eq)\n",
    "print(\"R-Squared:\",str(round(rvalue,2)))\n",
    "\n",
    "plt.scatter(x_northern,y_northern)\n",
    "plt.plot(x_northern,regression,\"r\")\n",
    "plt.annotate(line_eq,(45,10),fontsize=14,color=\"red\")\n",
    "plt.xlabel(\"Latitude\")\n",
    "plt.ylabel(\"Humidity\")\n",
    "plt.show()\n",
    "\n",
    "plt.savefig('North_Lat_Humidity')\n",
    "print('Low R-squared indicates no evidence from model that latitude influences Humidity in N. Hemisphere')"
   ]
  },
  {
   "cell_type": "markdown",
   "metadata": {},
   "source": [
    "####  Southern Hemisphere - Humidity (%) vs. Latitude Linear Regression"
   ]
  },
  {
   "cell_type": "code",
   "execution_count": 19,
   "metadata": {},
   "outputs": [
    {
     "name": "stdout",
     "output_type": "stream",
     "text": [
      "y = 0.03x + 72.71\n",
      "R-Squared: 0.02\n"
     ]
    },
    {
     "data": {
      "image/png": "[encoded data removed]",
      "text/plain": [
       "<Figure size 432x288 with 1 Axes>"
      ]
     },
     "metadata": {
      "needs_background": "light"
     },
     "output_type": "display_data"
    },
    {
     "name": "stdout",
     "output_type": "stream",
     "text": [
      "Low R-squared indicates no evidence from model that latitude influences Humidity in S. Hemisphere\n"
     ]
    },
    {
     "data": {
      "text/plain": [
       "<Figure size 432x288 with 0 Axes>"
      ]
     },
     "metadata": {},
     "output_type": "display_data"
    }
   ],
   "source": [
    "x_southern = southern_df[\"Latitude\"]\n",
    "y_southern = southern_df[\"Humidity\"]\n",
    "(slope, intercept, rvalue, pvalue, stderr) = linregress(x_southern,y_southern)\n",
    "model = (slope, intercept, rvalue, pvalue, stderr)\n",
    "regression = x_southern * slope + intercept\n",
    "#print(model)\n",
    "line_eq = \"y = \" + str(round(slope,2)) + \"x + \" + str(round(intercept,2))\n",
    "print(line_eq)\n",
    "print(\"R-Squared:\",str(round(rvalue,2)))\n",
    "\n",
    "plt.scatter(x_southern,y_southern)\n",
    "plt.plot(x_southern,regression,\"r\")\n",
    "plt.annotate(line_eq,(-19,45),fontsize=14,color=\"red\")\n",
    "plt.xlabel(\"Latitude\")\n",
    "plt.ylabel(\"Humidity\")\n",
    "plt.show()\n",
    "\n",
    "plt.savefig('South_Lat_Humidity')\n",
    "print('Low R-squared indicates no evidence from model that latitude influences Humidity in S. Hemisphere')"
   ]
  },
  {
   "cell_type": "markdown",
   "metadata": {},
   "source": [
    "####  Northern Hemisphere - Cloudiness (%) vs. Latitude Linear Regression"
   ]
  },
  {
   "cell_type": "code",
   "execution_count": 20,
   "metadata": {},
   "outputs": [
    {
     "name": "stdout",
     "output_type": "stream",
     "text": [
      "y = -0.14x + 61.98\n",
      "R-Squared: -0.07\n"
     ]
    },
    {
     "data": {
      "image/png": "[encoded data removed]",
      "text/plain": [
       "<Figure size 432x288 with 1 Axes>"
      ]
     },
     "metadata": {
      "needs_background": "light"
     },
     "output_type": "display_data"
    },
    {
     "name": "stdout",
     "output_type": "stream",
     "text": [
      "Low R-squared indicates no evidence from model that latitude influences Cloudiness\n"
     ]
    },
    {
     "data": {
      "text/plain": [
       "<Figure size 432x288 with 0 Axes>"
      ]
     },
     "metadata": {},
     "output_type": "display_data"
    }
   ],
   "source": [
    "x_northern = northern_df[\"Latitude\"]\n",
    "y_northern = northern_df[\"Cloudiness\"]\n",
    "\n",
    "(slope, intercept, rvalue, pvalue, stderr) = linregress(x_northern,y_northern)\n",
    "model = (slope, intercept, rvalue, pvalue, stderr)\n",
    "regression = x_northern * slope + intercept\n",
    "#print(model)\n",
    "line_eq = \"y = \" + str(round(slope,2)) + \"x + \" + str(round(intercept,2))\n",
    "print(line_eq)\n",
    "print(\"R-Squared:\",str(round(rvalue,2)))\n",
    "\n",
    "plt.scatter(x_northern,y_northern)\n",
    "plt.plot(x_northern,regression,\"r\")\n",
    "plt.annotate(line_eq,(45,10),fontsize=14,color=\"red\")\n",
    "plt.xlabel(\"Latitude\")\n",
    "plt.ylabel(\"Cloudiness\")\n",
    "plt.show()\n",
    "\n",
    "plt.savefig('North_Lat_Cloudiness')\n",
    "print('Low R-squared indicates no evidence from model that latitude influences Cloudiness')"
   ]
  },
  {
   "cell_type": "markdown",
   "metadata": {},
   "source": [
    "####  Southern Hemisphere - Cloudiness (%) vs. Latitude Linear Regression"
   ]
  },
  {
   "cell_type": "code",
   "execution_count": 21,
   "metadata": {},
   "outputs": [
    {
     "name": "stdout",
     "output_type": "stream",
     "text": [
      "y = 0.11x + 61.99\n",
      "R-Squared: 0.04\n"
     ]
    },
    {
     "data": {
      "image/png": "[encoded data removed]",
      "text/plain": [
       "<Figure size 432x288 with 1 Axes>"
      ]
     },
     "metadata": {
      "needs_background": "light"
     },
     "output_type": "display_data"
    },
    {
     "name": "stdout",
     "output_type": "stream",
     "text": [
      "Low R-squared indicates no evidence from model that latitude influences Cloudiness\n"
     ]
    },
    {
     "data": {
      "text/plain": [
       "<Figure size 432x288 with 0 Axes>"
      ]
     },
     "metadata": {},
     "output_type": "display_data"
    }
   ],
   "source": [
    "x_southern = southern_df[\"Latitude\"]\n",
    "y_southern = southern_df[\"Cloudiness\"]\n",
    "(slope, intercept, rvalue, pvalue, stderr) = linregress(x_southern,y_southern)\n",
    "model = (slope, intercept, rvalue, pvalue, stderr)\n",
    "regression = x_southern * slope + intercept\n",
    "#print(model)\n",
    "line_eq = \"y = \" + str(round(slope,2)) + \"x + \" + str(round(intercept,2))\n",
    "print(line_eq)\n",
    "print(\"R-Squared:\",str(round(rvalue,2)))\n",
    "\n",
    "plt.scatter(x_southern,y_southern)\n",
    "plt.plot(x_southern,regression,\"r\")\n",
    "plt.annotate(line_eq,(-19,45),fontsize=14,color=\"red\")\n",
    "plt.xlabel(\"Latitude\")\n",
    "plt.ylabel(\"Cloudiness\")\n",
    "plt.show()\n",
    "\n",
    "plt.savefig('South_Lat_Cloudiness')\n",
    "print('Low R-squared indicates no evidence from model that latitude influences Cloudiness')"
   ]
  },
  {
   "cell_type": "markdown",
   "metadata": {},
   "source": [
    "####  Northern Hemisphere - Wind Speed (mph) vs. Latitude Linear Regression"
   ]
  },
  {
   "cell_type": "code",
   "execution_count": 22,
   "metadata": {},
   "outputs": [
    {
     "name": "stdout",
     "output_type": "stream",
     "text": [
      "y = 0.01x + 7.14\n",
      "R-Squared: 0.05\n"
     ]
    },
    {
     "data": {
      "image/png": "[encoded data removed]",
      "text/plain": [
       "<Figure size 432x288 with 1 Axes>"
      ]
     },
     "metadata": {
      "needs_background": "light"
     },
     "output_type": "display_data"
    },
    {
     "name": "stdout",
     "output_type": "stream",
     "text": [
      "Low R-squared indicates no evidence from model that latitude influences Wind Speed\n"
     ]
    },
    {
     "data": {
      "text/plain": [
       "<Figure size 432x288 with 0 Axes>"
      ]
     },
     "metadata": {},
     "output_type": "display_data"
    }
   ],
   "source": [
    "x_northern = northern_df[\"Latitude\"]\n",
    "y_northern = northern_df[\"Wind Speed\"]\n",
    "\n",
    "(slope, intercept, rvalue, pvalue, stderr) = linregress(x_northern,y_northern)\n",
    "model = (slope, intercept, rvalue, pvalue, stderr)\n",
    "regression = x_northern * slope + intercept\n",
    "#print(model)\n",
    "line_eq = \"y = \" + str(round(slope,2)) + \"x + \" + str(round(intercept,2))\n",
    "print(line_eq)\n",
    "print(\"R-Squared:\",str(round(rvalue,2)))\n",
    "\n",
    "plt.scatter(x_northern,y_northern)\n",
    "plt.plot(x_northern,regression,\"r\")\n",
    "plt.annotate(line_eq,(20,22),fontsize=14,color=\"red\")\n",
    "plt.xlabel(\"Latitude\")\n",
    "plt.ylabel(\"Wind Speed\")\n",
    "plt.show()\n",
    "\n",
    "plt.savefig('North_Lat_Wind Speed')\n",
    "print('Low R-squared indicates no evidence from model that latitude influences Wind Speed')"
   ]
  },
  {
   "cell_type": "markdown",
   "metadata": {},
   "source": [
    "####  Southern Hemisphere - Wind Speed (mph) vs. Latitude Linear Regression"
   ]
  },
  {
   "cell_type": "code",
   "execution_count": 23,
   "metadata": {},
   "outputs": [
    {
     "name": "stdout",
     "output_type": "stream",
     "text": [
      "y = -0.04x + 6.05\n",
      "R-Squared: -0.1093675692\n"
     ]
    },
    {
     "data": {
      "image/png": "[encoded data removed]",
      "text/plain": [
       "<Figure size 432x288 with 1 Axes>"
      ]
     },
     "metadata": {
      "needs_background": "light"
     },
     "output_type": "display_data"
    },
    {
     "name": "stdout",
     "output_type": "stream",
     "text": [
      "Low R-squared indicates no evidence from model that latitude influences Wind Speed\n"
     ]
    },
    {
     "data": {
      "text/plain": [
       "<Figure size 432x288 with 0 Axes>"
      ]
     },
     "metadata": {},
     "output_type": "display_data"
    }
   ],
   "source": [
    "x_southern = southern_df[\"Latitude\"]\n",
    "y_southern = southern_df[\"Wind Speed\"]\n",
    "(slope, intercept, rvalue, pvalue, stderr) = linregress(x_southern,y_southern)\n",
    "model = (slope, intercept, rvalue, pvalue, stderr)\n",
    "regression = x_southern * slope + intercept\n",
    "#print(model)\n",
    "line_eq = \"y = \" + str(round(slope,2)) + \"x + \" + str(round(intercept,2))\n",
    "print(line_eq)\n",
    "print(\"R-Squared:\",str(round(rvalue,10)))\n",
    "\n",
    "plt.scatter(x_southern,y_southern)\n",
    "plt.plot(x_southern,regression,\"r\")\n",
    "plt.annotate(line_eq,(-50,20),fontsize=14,color=\"red\")\n",
    "plt.xlabel(\"Latitude\")\n",
    "plt.ylabel(\"Wind Speed\")\n",
    "plt.show()\n",
    "\n",
    "plt.savefig('South_Lat_Wind Speed')\n",
    "print('Low R-squared indicates no evidence from model that latitude influences Wind Speed')"
   ]
  },
  {
   "cell_type": "code",
   "execution_count": null,
   "metadata": {},
   "outputs": [],
   "source": []
  }
 ],
 "metadata": {
  "anaconda-cloud": {},
  "kernel_info": {
   "name": "python3"
  },
  "kernelspec": {
   "display_name": "Python 3",
   "language": "python",
   "name": "python3"
  },
  "language_info": {
   "codemirror_mode": {
    "name": "ipython",
    "version": 3
   },
   "file_extension": ".py",
   "mimetype": "text/x-python",
   "name": "python",
   "nbconvert_exporter": "python",
   "pygments_lexer": "ipython3",
   "version": "3.8.5"
  },
  "latex_envs": {
   "LaTeX_envs_menu_present": true,
   "autoclose": false,
   "autocomplete": true,
   "bibliofile": "biblio.bib",
   "cite_by": "apalike",
   "current_citInitial": 1,
   "eqLabelWithNumbers": true,
   "eqNumInitial": 1,
   "hotkeys": {
    "equation": "Ctrl-E",
    "itemize": "Ctrl-I"
   },
   "labels_anchors": false,
   "latex_user_defs": false,
   "report_style_numbering": false,
   "user_envs_cfg": false
  },
  "nteract": {
   "version": "0.12.3"
  }
 },
 "nbformat": 4,
 "nbformat_minor": 2
}
